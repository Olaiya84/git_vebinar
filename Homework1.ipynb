{
  "nbformat": 4,
  "nbformat_minor": 0,
  "metadata": {
    "colab": {
      "name": "Homework1.ipynb",
      "provenance": [],
      "collapsed_sections": [],
      "authorship_tag": "ABX9TyPdcghv8y62jzroQo99gRRL",
      "include_colab_link": true
    },
    "kernelspec": {
      "name": "python3",
      "display_name": "Python 3"
    },
    "language_info": {
      "name": "python"
    }
  },
  "cells": [
    {
      "cell_type": "markdown",
      "metadata": {
        "id": "view-in-github",
        "colab_type": "text"
      },
      "source": [
        "<a href=\"https://colab.research.google.com/github/Olaiya84/git_vebinar/blob/master/Homework1.ipynb\" target=\"_parent\"><img src=\"https://colab.research.google.com/assets/colab-badge.svg\" alt=\"Open In Colab\"/></a>"
      ]
    },
    {
      "cell_type": "code",
      "metadata": {
        "id": "4uwdvtcn_KMx"
      },
      "source": [
        "import nltk\n",
        "import random"
      ],
      "execution_count": 39,
      "outputs": []
    },
    {
      "cell_type": "code",
      "metadata": {
        "id": "Uznb4tHD_VVh"
      },
      "source": [
        "BOT_CONFIG = {\n",
        "    'intents':{\n",
        "        'hello': {\n",
        "            'examples': ['Привет!', 'Здравствуйте!', 'Хай!!'],\n",
        "            'responses': ['Прив!', 'Хеллоу', 'Как жизнь?']\n",
        "        },\n",
        "        'bye': {\n",
        "            'examples': ['Пока!', 'До свидания!', 'Увидимся!!'],\n",
        "            'responses': ['Чао!', 'Будь здоров!', 'Сайонара']\n",
        "        },\n",
        "        'make_order': {\n",
        "            'examples': ['Хочу пиццу', 'Хочу сделать заказ', 'Заказать пиццу', 'Покажи меню'],\n",
        "            'responses': ['Ознакомьтесь с нашим меню и сделайте заказ в формате диаметр название пиццы, например, 30 Карбонара', 'Чего желаете? (диаметр, название)']\n",
        "        },\n",
        "        'cancel_order': {\n",
        "            'examples': ['Отменить заказ', 'Отмена', 'Отбой', 'Удалить заказ'],\n",
        "            'responses': ['Ваш заказ отменен', 'Не волнуйтесь, отменили', 'Жаль, приходите к нам еще']\n",
        "        },\n",
        "        'add-to-order': {\n",
        "            'examples': ['30 Карбонара', '40 Четыре сыра', '30 Пепперони', '40 Маргарита', '40 Баварская'],\n",
        "            'responses': ['Отличный выбор!', 'Принято, что-то еще?', 'Добавлено в заказ']\n",
        "        },\n",
        "        'remove-from-order': {\n",
        "            'examples': ['удалить', 'убрать', 'ой, не то'],\n",
        "            'responses': ['Ничего страшного, последняя пицца удалена из заказа', 'Все в порядке, удаляю, чего желаете?']\n",
        "        },\n",
        "        'check-order': {\n",
        "            'examples': ['что в заказе?', 'что я заказал?', 'давай проверим заказ', 'состав заказа'],\n",
        "            'responses': ['Ваш заказ: ', 'Конечно! Вы заказали: ', 'Вами добавлено: ']\n",
        "        },\n",
        "        'delivery': {\n",
        "            'examples': ['Заказать доставку', 'Доставить пиццу', 'привезите пиццу'],\n",
        "            'responses': ['Укажите Ваш адрес и желаемое время доставки', 'Куда и во сколько доставить заказ?', 'Куда везем и ко скольки?']\n",
        "        },\n",
        "        'gratitude': {\n",
        "            'examples': ['Спасибо', 'Благодарю', 'Мерси', 'Сенкью', 'Данке'],\n",
        "            'responses': ['И Вам спасибо!', 'С Вами приятно работать', 'Рад помочь!']\n",
        "        }\n",
        "        \n",
        "    },\n",
        "    'default_answers': ['Извините, я тупой:(', 'Переформулируйте, меня еще не обучили']\n",
        "}"
      ],
      "execution_count": 52,
      "outputs": []
    },
    {
      "cell_type": "code",
      "metadata": {
        "id": "6K7hWPsz_81B"
      },
      "source": [
        "def cleaner(text):\n",
        "  cleaned_text = ''\n",
        "  for ch in text.lower():\n",
        "    if ch in 'абвгдеёжзийклмнопрстуфхцчшщъыьэюя ':\n",
        "      cleaned_text = cleaned_text + ch\n",
        "  return cleaned_text\n",
        "\n",
        "\n",
        "def match(text, example):\n",
        "  return nltk.edit_distance(text, example) / len(example) < 0.4\n",
        "\n",
        "\n",
        "def get_intent(text):\n",
        "  for intent in BOT_CONFIG['intents']:\n",
        "    for example in BOT_CONFIG['intents'][intent]['examples']:\n",
        "      if match(cleaner(text), cleaner(example)):\n",
        "        return intent\n",
        "\n",
        "\n",
        "def bot(text):\n",
        "  intent = get_intent(text)\n",
        "  if intent is not None:\n",
        "    return random.choice(BOT_CONFIG['intents'][intent]['responses'])\n",
        "  else:\n",
        "    return random.choice(BOT_CONFIG['default_answers'])"
      ],
      "execution_count": 53,
      "outputs": []
    },
    {
      "cell_type": "code",
      "metadata": {
        "colab": {
          "base_uri": "https://localhost:8080/"
        },
        "id": "lqZfTF19Cs-_",
        "outputId": "7ce7d8ba-1f27-420b-a5d3-55b368d32f40"
      },
      "source": [
        "question = ''\n",
        "while question not in ['выход', 'выключайся']:\n",
        "  question = input()\n",
        "  answer = bot(question)\n",
        "  print(answer)"
      ],
      "execution_count": null,
      "outputs": [
        {
          "output_type": "stream",
          "text": [
            "спасибо\n",
            "С Вами приятно работать\n",
            "привнт\n",
            "Прив!\n",
            "хочу енсть\n",
            "Переформулируйте, меня еще не обучили\n",
            "хчу пиццу\n",
            "Ознакомьтесь с нашим меню и сделайте заказ в формате диаметр название пиццы, например, 30 Карбонара\n",
            "40 пеперони\n",
            "Отличный выбор!\n",
            "32 корбанара\n",
            "Добавлено в заказ\n",
            "доставить пицу\n",
            "Куда везем и ко скольки?\n",
            "ой не то\n",
            "Ничего страшного, последняя пицца удалена из заказа\n",
            "удалить заказ\n",
            "Ознакомьтесь с нашим меню и сделайте заказ в формате диаметр название пиццы, например, 30 Карбонара\n",
            "удалить\n",
            "Ничего страшного, последняя пицца удалена из заказа\n",
            "Удалить заказ\n",
            "Ознакомьтесь с нашим меню и сделайте заказ в формате диаметр название пиццы, например, 30 Карбонара\n",
            "отбой\n",
            "Жаль, приходите к нам еще\n",
            "мерси\n",
            "И Вам спасибо!\n",
            "поке\n",
            "Сайонара\n"
          ],
          "name": "stdout"
        }
      ]
    }
  ]
}